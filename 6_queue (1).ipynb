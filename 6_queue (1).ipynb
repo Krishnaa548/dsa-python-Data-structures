{
  "cells": [
    {
      "cell_type": "markdown",
      "metadata": {
        "id": "irEgsutj1p6Y"
      },
      "source": [
        "<h2 style='color:purple' align='center'>Data Structures : Queue</h2>"
      ]
    },
    {
      "cell_type": "markdown",
      "metadata": {
        "id": "LFEQNtBx1p6Z"
      },
      "source": [
        "<h3 style='color:blue'>Using list as a queue</h3>"
      ]
    },
    {
      "cell_type": "code",
      "execution_count": null,
      "metadata": {
        "id": "Gwo1Vlba1p6a"
      },
      "outputs": [],
      "source": [
        "wmt_stock_price_queue = []"
      ]
    },
    {
      "cell_type": "code",
      "execution_count": null,
      "metadata": {
        "id": "DUzmgwbk1p6c"
      },
      "outputs": [],
      "source": [
        "wmt_stock_price_queue.insert(0,131.10)\n",
        "wmt_stock_price_queue.insert(0,132.12)\n",
        "wmt_stock_price_queue.insert(0,135)"
      ]
    },
    {
      "cell_type": "code",
      "execution_count": null,
      "metadata": {
        "id": "wOkDmErx1p6d",
        "outputId": "fe9a630f-1e11-4c29-8c90-c4e210a0a5d5"
      },
      "outputs": [
        {
          "data": {
            "text/plain": [
              "[135, 132.12, 131.1]"
            ]
          },
          "execution_count": 6,
          "metadata": {},
          "output_type": "execute_result"
        }
      ],
      "source": [
        "wmt_stock_price_queue"
      ]
    },
    {
      "cell_type": "code",
      "execution_count": null,
      "metadata": {
        "id": "ASkxyzGY1p6e",
        "outputId": "c3f1dd0b-ce00-491f-ceb3-4611dc238a3c"
      },
      "outputs": [
        {
          "data": {
            "text/plain": [
              "131.1"
            ]
          },
          "execution_count": 7,
          "metadata": {},
          "output_type": "execute_result"
        }
      ],
      "source": [
        "wmt_stock_price_queue.pop()"
      ]
    },
    {
      "cell_type": "code",
      "execution_count": null,
      "metadata": {
        "id": "ekX0W7nv1p6e",
        "outputId": "fff26e30-bdff-4c7c-d9b4-88e2492d8e00"
      },
      "outputs": [
        {
          "data": {
            "text/plain": [
              "[135, 132.12]"
            ]
          },
          "execution_count": 8,
          "metadata": {},
          "output_type": "execute_result"
        }
      ],
      "source": [
        "wmt_stock_price_queue"
      ]
    },
    {
      "cell_type": "code",
      "execution_count": null,
      "metadata": {
        "id": "O1wAInvd1p6e",
        "outputId": "58aa5965-6609-4d91-8c0a-b2550a2a3c13"
      },
      "outputs": [
        {
          "data": {
            "text/plain": [
              "132.12"
            ]
          },
          "execution_count": 9,
          "metadata": {},
          "output_type": "execute_result"
        }
      ],
      "source": [
        "wmt_stock_price_queue.pop()"
      ]
    },
    {
      "cell_type": "code",
      "execution_count": null,
      "metadata": {
        "id": "haq154r41p6e",
        "outputId": "f347e67b-43a1-4e40-918e-b520ccb76557"
      },
      "outputs": [
        {
          "data": {
            "text/plain": [
              "135"
            ]
          },
          "execution_count": 10,
          "metadata": {},
          "output_type": "execute_result"
        }
      ],
      "source": [
        "wmt_stock_price_queue.pop()"
      ]
    },
    {
      "cell_type": "code",
      "execution_count": null,
      "metadata": {
        "id": "PoJLQ3lD1p6f",
        "outputId": "887cb2aa-9ea1-4546-db9d-25179592238d"
      },
      "outputs": [
        {
          "ename": "IndexError",
          "evalue": "pop from empty list",
          "output_type": "error",
          "traceback": [
            "\u001b[1;31m---------------------------------------------------------------------------\u001b[0m",
            "\u001b[1;31mIndexError\u001b[0m                                Traceback (most recent call last)",
            "\u001b[1;32m<ipython-input-11-09580442e205>\u001b[0m in \u001b[0;36m<module>\u001b[1;34m\u001b[0m\n\u001b[1;32m----> 1\u001b[1;33m \u001b[0mwmt_stock_price_queue\u001b[0m\u001b[1;33m.\u001b[0m\u001b[0mpop\u001b[0m\u001b[1;33m(\u001b[0m\u001b[1;33m)\u001b[0m\u001b[1;33m\u001b[0m\u001b[1;33m\u001b[0m\u001b[0m\n\u001b[0m",
            "\u001b[1;31mIndexError\u001b[0m: pop from empty list"
          ]
        }
      ],
      "source": [
        "wmt_stock_price_queue.pop()"
      ]
    },
    {
      "cell_type": "markdown",
      "metadata": {
        "id": "45oj_fKk1p6f"
      },
      "source": [
        "<h3 style='color:blue'>Using collections.deque as a queue</h3>"
      ]
    },
    {
      "cell_type": "code",
      "execution_count": null,
      "metadata": {
        "id": "f6XLnwot1p6f"
      },
      "outputs": [],
      "source": [
        "from collections import deque\n",
        "q = deque()"
      ]
    },
    {
      "cell_type": "code",
      "execution_count": null,
      "metadata": {
        "id": "_ebbpyjK1p6f",
        "outputId": "ce1e702a-ad0a-49eb-c3c6-f4514202fc23"
      },
      "outputs": [
        {
          "data": {
            "text/plain": [
              "deque([10, 8, 5])"
            ]
          },
          "execution_count": 16,
          "metadata": {},
          "output_type": "execute_result"
        }
      ],
      "source": [
        "q.appendleft(5)\n",
        "q.appendleft(8)\n",
        "q.appendleft(10)\n",
        "q"
      ]
    },
    {
      "cell_type": "code",
      "execution_count": null,
      "metadata": {
        "id": "rJrNTW9a1p6f",
        "outputId": "37cc6f7c-2caf-4aa7-afc0-4996f082e38a"
      },
      "outputs": [
        {
          "data": {
            "text/plain": [
              "5"
            ]
          },
          "execution_count": 17,
          "metadata": {},
          "output_type": "execute_result"
        }
      ],
      "source": [
        "q.pop()"
      ]
    },
    {
      "cell_type": "code",
      "execution_count": null,
      "metadata": {
        "id": "S6AFgJBv1p6f",
        "outputId": "a1e154ec-0758-428a-aef6-23c6a70d9a2d"
      },
      "outputs": [
        {
          "data": {
            "text/plain": [
              "deque([10, 8])"
            ]
          },
          "execution_count": 18,
          "metadata": {},
          "output_type": "execute_result"
        }
      ],
      "source": [
        "q"
      ]
    },
    {
      "cell_type": "code",
      "execution_count": null,
      "metadata": {
        "id": "1xgZUl-w1p6f",
        "outputId": "975f2247-382d-493d-cfb7-c526d58ff4e7"
      },
      "outputs": [
        {
          "data": {
            "text/plain": [
              "8"
            ]
          },
          "execution_count": 19,
          "metadata": {},
          "output_type": "execute_result"
        }
      ],
      "source": [
        "q.pop()"
      ]
    },
    {
      "cell_type": "code",
      "execution_count": null,
      "metadata": {
        "id": "9Z4No9OI1p6f",
        "outputId": "81fcdf93-2729-4c8f-9521-627cbaab1ec7"
      },
      "outputs": [
        {
          "data": {
            "text/plain": [
              "10"
            ]
          },
          "execution_count": 20,
          "metadata": {},
          "output_type": "execute_result"
        }
      ],
      "source": [
        "q.pop()"
      ]
    },
    {
      "cell_type": "code",
      "execution_count": null,
      "metadata": {
        "scrolled": true,
        "id": "ioPujYLZ1p6f",
        "outputId": "ddd0eddc-5834-4e64-89ab-8515798660b7"
      },
      "outputs": [
        {
          "ename": "IndexError",
          "evalue": "pop from an empty deque",
          "output_type": "error",
          "traceback": [
            "\u001b[1;31m---------------------------------------------------------------------------\u001b[0m",
            "\u001b[1;31mIndexError\u001b[0m                                Traceback (most recent call last)",
            "\u001b[1;32m<ipython-input-21-a75d510a0910>\u001b[0m in \u001b[0;36m<module>\u001b[1;34m\u001b[0m\n\u001b[1;32m----> 1\u001b[1;33m \u001b[0mq\u001b[0m\u001b[1;33m.\u001b[0m\u001b[0mpop\u001b[0m\u001b[1;33m(\u001b[0m\u001b[1;33m)\u001b[0m\u001b[1;33m\u001b[0m\u001b[1;33m\u001b[0m\u001b[0m\n\u001b[0m",
            "\u001b[1;31mIndexError\u001b[0m: pop from an empty deque"
          ]
        }
      ],
      "source": [
        "q.pop()"
      ]
    },
    {
      "cell_type": "markdown",
      "metadata": {
        "id": "vc6e6VD11p6g"
      },
      "source": [
        "<h3 style='color:blue'>Implement queue class using collections.deque</h3>"
      ]
    },
    {
      "cell_type": "code",
      "execution_count": null,
      "metadata": {
        "id": "imLvYOCz1p6g"
      },
      "outputs": [],
      "source": [
        "from collections import deque\n",
        "\n",
        "class Queue:\n",
        "\n",
        "    def __init__(self):\n",
        "        self.buffer = deque()\n",
        "\n",
        "    def enqueue(self, val):\n",
        "        self.buffer.appendleft(val)\n",
        "\n",
        "    def dequeue(self):\n",
        "        return self.buffer.pop()\n",
        "\n",
        "    def is_empty(self):\n",
        "        return len(self.buffer)==0\n",
        "\n",
        "    def size(self):\n",
        "        return len(self.buffer)"
      ]
    },
    {
      "cell_type": "code",
      "execution_count": null,
      "metadata": {
        "id": "-06r-Tkw1p6g"
      },
      "outputs": [],
      "source": [
        "pq = Queue()\n",
        "\n",
        "pq.enqueue({\n",
        "    'company': 'Wall Mart',\n",
        "    'timestamp': '15 apr, 11.01 AM',\n",
        "    'price': 131.10\n",
        "})\n",
        "pq.enqueue({\n",
        "    'company': 'Wall Mart',\n",
        "    'timestamp': '15 apr, 11.02 AM',\n",
        "    'price': 132\n",
        "})\n",
        "pq.enqueue({\n",
        "    'company': 'Wall Mart',\n",
        "    'timestamp': '15 apr, 11.03 AM',\n",
        "    'price': 135\n",
        "})"
      ]
    },
    {
      "cell_type": "code",
      "execution_count": null,
      "metadata": {
        "id": "E6kTnoSO1p6g",
        "outputId": "71e5ce05-618c-45ea-d9af-6a56f7df6151"
      },
      "outputs": [
        {
          "data": {
            "text/plain": [
              "3"
            ]
          },
          "execution_count": 34,
          "metadata": {},
          "output_type": "execute_result"
        }
      ],
      "source": [
        "pq.size()"
      ]
    },
    {
      "cell_type": "code",
      "execution_count": null,
      "metadata": {
        "id": "DXp_2AnZ1p6g",
        "outputId": "6aee9e97-b8c2-4b22-9ae9-d096dcd708b1"
      },
      "outputs": [
        {
          "data": {
            "text/plain": [
              "{'company': 'Wall Mart', 'timestamp': '15 apr, 11.01 AM', 'price': 131.1}"
            ]
          },
          "execution_count": 32,
          "metadata": {},
          "output_type": "execute_result"
        }
      ],
      "source": [
        "pq.dequeue()"
      ]
    },
    {
      "cell_type": "code",
      "execution_count": null,
      "metadata": {
        "id": "_BfkfbF-1p6g",
        "outputId": "14fd056b-f86c-4d6c-babb-d9421e3f0cec"
      },
      "outputs": [
        {
          "data": {
            "text/plain": [
              "{'company': 'Wall Mart', 'timestamp': '15 apr, 11.01 AM', 'price': 131.1}"
            ]
          },
          "execution_count": 35,
          "metadata": {},
          "output_type": "execute_result"
        }
      ],
      "source": [
        "pq.dequeue()"
      ]
    }
  ],
  "metadata": {
    "kernelspec": {
      "display_name": "Python 3",
      "language": "python",
      "name": "python3"
    },
    "language_info": {
      "codemirror_mode": {
        "name": "ipython",
        "version": 3
      },
      "file_extension": ".py",
      "mimetype": "text/x-python",
      "name": "python",
      "nbconvert_exporter": "python",
      "pygments_lexer": "ipython3",
      "version": "3.7.3"
    },
    "colab": {
      "provenance": []
    }
  },
  "nbformat": 4,
  "nbformat_minor": 0
}